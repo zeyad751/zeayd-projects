{
 "cells": [
  {
   "cell_type": "markdown",
   "id": "43873a4b",
   "metadata": {},
   "source": [
    "# import libraries "
   ]
  },
  {
   "cell_type": "code",
   "execution_count": 1,
   "id": "b3a2945a",
   "metadata": {},
   "outputs": [],
   "source": [
    "import pandas as pd\n",
    "import numpy as np\n",
    "import matplotlib.pyplot as plt\n",
    "import seaborn as sns"
   ]
  },
  {
   "cell_type": "code",
   "execution_count": 2,
   "id": "60fc4ede",
   "metadata": {},
   "outputs": [],
   "source": [
    "import imblearn"
   ]
  },
  {
   "cell_type": "markdown",
   "id": "a04520a2",
   "metadata": {},
   "source": [
    "# read data"
   ]
  },
  {
   "cell_type": "code",
   "execution_count": 3,
   "id": "e0f37fd4",
   "metadata": {},
   "outputs": [],
   "source": [
    "raw_data=pd.read_csv(r'E:\\zeyad\\eitslat\\full_gen_data.csv')"
   ]
  },
  {
   "cell_type": "code",
   "execution_count": 4,
   "id": "46fe1197",
   "metadata": {},
   "outputs": [
    {
     "data": {
      "text/html": [
       "<div>\n",
       "<style scoped>\n",
       "    .dataframe tbody tr th:only-of-type {\n",
       "        vertical-align: middle;\n",
       "    }\n",
       "\n",
       "    .dataframe tbody tr th {\n",
       "        vertical-align: top;\n",
       "    }\n",
       "\n",
       "    .dataframe thead th {\n",
       "        text-align: right;\n",
       "    }\n",
       "</style>\n",
       "<table border=\"1\" class=\"dataframe\">\n",
       "  <thead>\n",
       "    <tr style=\"text-align: right;\">\n",
       "      <th></th>\n",
       "      <th>country</th>\n",
       "      <th>article</th>\n",
       "      <th>sales</th>\n",
       "      <th>regular_price</th>\n",
       "      <th>current_price</th>\n",
       "      <th>ratio</th>\n",
       "      <th>retailweek</th>\n",
       "      <th>promo1</th>\n",
       "      <th>promo2</th>\n",
       "      <th>customer_id</th>\n",
       "      <th>...</th>\n",
       "      <th>style</th>\n",
       "      <th>sizes</th>\n",
       "      <th>gender</th>\n",
       "      <th>rgb_r_main_col</th>\n",
       "      <th>rgb_g_main_col</th>\n",
       "      <th>rgb_b_main_col</th>\n",
       "      <th>rgb_r_sec_col</th>\n",
       "      <th>rgb_g_sec_col</th>\n",
       "      <th>rgb_b_sec_col</th>\n",
       "      <th>label</th>\n",
       "    </tr>\n",
       "  </thead>\n",
       "  <tbody>\n",
       "    <tr>\n",
       "      <th>0</th>\n",
       "      <td>Germany</td>\n",
       "      <td>YN8639</td>\n",
       "      <td>28</td>\n",
       "      <td>5.95</td>\n",
       "      <td>3.95</td>\n",
       "      <td>0.663866</td>\n",
       "      <td>2016-03-27</td>\n",
       "      <td>0</td>\n",
       "      <td>0</td>\n",
       "      <td>1003.0</td>\n",
       "      <td>...</td>\n",
       "      <td>slim</td>\n",
       "      <td>xxs,xs,s,m,l,xl,xxl</td>\n",
       "      <td>women</td>\n",
       "      <td>205</td>\n",
       "      <td>104</td>\n",
       "      <td>57</td>\n",
       "      <td>255</td>\n",
       "      <td>187</td>\n",
       "      <td>255</td>\n",
       "      <td>0</td>\n",
       "    </tr>\n",
       "    <tr>\n",
       "      <th>1</th>\n",
       "      <td>Germany</td>\n",
       "      <td>YN8639</td>\n",
       "      <td>28</td>\n",
       "      <td>5.95</td>\n",
       "      <td>3.95</td>\n",
       "      <td>0.663866</td>\n",
       "      <td>2016-03-27</td>\n",
       "      <td>0</td>\n",
       "      <td>0</td>\n",
       "      <td>1003.0</td>\n",
       "      <td>...</td>\n",
       "      <td>regular</td>\n",
       "      <td>xxs,xs,s,m,l,xl,xxl</td>\n",
       "      <td>women</td>\n",
       "      <td>188</td>\n",
       "      <td>238</td>\n",
       "      <td>104</td>\n",
       "      <td>255</td>\n",
       "      <td>187</td>\n",
       "      <td>255</td>\n",
       "      <td>0</td>\n",
       "    </tr>\n",
       "    <tr>\n",
       "      <th>2</th>\n",
       "      <td>Germany</td>\n",
       "      <td>YN8639</td>\n",
       "      <td>28</td>\n",
       "      <td>5.95</td>\n",
       "      <td>3.95</td>\n",
       "      <td>0.663866</td>\n",
       "      <td>2016-03-27</td>\n",
       "      <td>0</td>\n",
       "      <td>0</td>\n",
       "      <td>1003.0</td>\n",
       "      <td>...</td>\n",
       "      <td>regular</td>\n",
       "      <td>xxs,xs,s,m,l,xl,xxl</td>\n",
       "      <td>women</td>\n",
       "      <td>205</td>\n",
       "      <td>173</td>\n",
       "      <td>0</td>\n",
       "      <td>255</td>\n",
       "      <td>187</td>\n",
       "      <td>255</td>\n",
       "      <td>0</td>\n",
       "    </tr>\n",
       "    <tr>\n",
       "      <th>3</th>\n",
       "      <td>Germany</td>\n",
       "      <td>YN8639</td>\n",
       "      <td>28</td>\n",
       "      <td>5.95</td>\n",
       "      <td>3.95</td>\n",
       "      <td>0.663866</td>\n",
       "      <td>2016-03-27</td>\n",
       "      <td>0</td>\n",
       "      <td>0</td>\n",
       "      <td>1003.0</td>\n",
       "      <td>...</td>\n",
       "      <td>regular</td>\n",
       "      <td>xxs,xs,s,m,l,xl,xxl</td>\n",
       "      <td>kids</td>\n",
       "      <td>205</td>\n",
       "      <td>140</td>\n",
       "      <td>149</td>\n",
       "      <td>164</td>\n",
       "      <td>211</td>\n",
       "      <td>238</td>\n",
       "      <td>0</td>\n",
       "    </tr>\n",
       "    <tr>\n",
       "      <th>4</th>\n",
       "      <td>Germany</td>\n",
       "      <td>YN8639</td>\n",
       "      <td>28</td>\n",
       "      <td>5.95</td>\n",
       "      <td>3.95</td>\n",
       "      <td>0.663866</td>\n",
       "      <td>2016-03-27</td>\n",
       "      <td>0</td>\n",
       "      <td>0</td>\n",
       "      <td>1003.0</td>\n",
       "      <td>...</td>\n",
       "      <td>regular</td>\n",
       "      <td>xxs,xs,s,m,l,xl,xxl</td>\n",
       "      <td>women</td>\n",
       "      <td>138</td>\n",
       "      <td>43</td>\n",
       "      <td>226</td>\n",
       "      <td>164</td>\n",
       "      <td>211</td>\n",
       "      <td>238</td>\n",
       "      <td>0</td>\n",
       "    </tr>\n",
       "  </tbody>\n",
       "</table>\n",
       "<p>5 rows × 24 columns</p>\n",
       "</div>"
      ],
      "text/plain": [
       "   country article  sales  regular_price  current_price     ratio  retailweek  \\\n",
       "0  Germany  YN8639     28           5.95           3.95  0.663866  2016-03-27   \n",
       "1  Germany  YN8639     28           5.95           3.95  0.663866  2016-03-27   \n",
       "2  Germany  YN8639     28           5.95           3.95  0.663866  2016-03-27   \n",
       "3  Germany  YN8639     28           5.95           3.95  0.663866  2016-03-27   \n",
       "4  Germany  YN8639     28           5.95           3.95  0.663866  2016-03-27   \n",
       "\n",
       "   promo1  promo2  customer_id  ...    style                sizes gender  \\\n",
       "0       0       0       1003.0  ...     slim  xxs,xs,s,m,l,xl,xxl  women   \n",
       "1       0       0       1003.0  ...  regular  xxs,xs,s,m,l,xl,xxl  women   \n",
       "2       0       0       1003.0  ...  regular  xxs,xs,s,m,l,xl,xxl  women   \n",
       "3       0       0       1003.0  ...  regular  xxs,xs,s,m,l,xl,xxl   kids   \n",
       "4       0       0       1003.0  ...  regular  xxs,xs,s,m,l,xl,xxl  women   \n",
       "\n",
       "   rgb_r_main_col rgb_g_main_col rgb_b_main_col rgb_r_sec_col  rgb_g_sec_col  \\\n",
       "0             205            104             57           255            187   \n",
       "1             188            238            104           255            187   \n",
       "2             205            173              0           255            187   \n",
       "3             205            140            149           164            211   \n",
       "4             138             43            226           164            211   \n",
       "\n",
       "   rgb_b_sec_col  label  \n",
       "0            255      0  \n",
       "1            255      0  \n",
       "2            255      0  \n",
       "3            238      0  \n",
       "4            238      0  \n",
       "\n",
       "[5 rows x 24 columns]"
      ]
     },
     "execution_count": 4,
     "metadata": {},
     "output_type": "execute_result"
    }
   ],
   "source": [
    "raw_data.head()"
   ]
  },
  {
   "cell_type": "code",
   "execution_count": 5,
   "id": "22124be8",
   "metadata": {},
   "outputs": [
    {
     "data": {
      "text/plain": [
       "(100000, 24)"
      ]
     },
     "execution_count": 5,
     "metadata": {},
     "output_type": "execute_result"
    }
   ],
   "source": [
    "raw_data.shape"
   ]
  },
  {
   "cell_type": "markdown",
   "id": "fd6d438e",
   "metadata": {},
   "source": [
    "# checking for missing values"
   ]
  },
  {
   "cell_type": "code",
   "execution_count": 6,
   "id": "1ee8e0e6",
   "metadata": {},
   "outputs": [
    {
     "data": {
      "text/plain": [
       "country           0\n",
       "article           0\n",
       "sales             0\n",
       "regular_price     0\n",
       "current_price     0\n",
       "ratio             0\n",
       "retailweek        0\n",
       "promo1            0\n",
       "promo2            0\n",
       "customer_id       0\n",
       "article.1         0\n",
       "productgroup      0\n",
       "category          0\n",
       "cost              0\n",
       "style             0\n",
       "sizes             0\n",
       "gender            0\n",
       "rgb_r_main_col    0\n",
       "rgb_g_main_col    0\n",
       "rgb_b_main_col    0\n",
       "rgb_r_sec_col     0\n",
       "rgb_g_sec_col     0\n",
       "rgb_b_sec_col     0\n",
       "label             0\n",
       "dtype: int64"
      ]
     },
     "execution_count": 6,
     "metadata": {},
     "output_type": "execute_result"
    }
   ],
   "source": [
    "raw_data.isnull().sum()"
   ]
  },
  {
   "cell_type": "markdown",
   "id": "b870e1b1",
   "metadata": {},
   "source": [
    "# checking for duplicates"
   ]
  },
  {
   "cell_type": "code",
   "execution_count": 7,
   "id": "8a9466ed",
   "metadata": {},
   "outputs": [
    {
     "data": {
      "text/plain": [
       "0"
      ]
     },
     "execution_count": 7,
     "metadata": {},
     "output_type": "execute_result"
    }
   ],
   "source": [
    "raw_data.duplicated().sum()"
   ]
  },
  {
   "cell_type": "markdown",
   "id": "0c787d32",
   "metadata": {},
   "source": [
    "# understanding the data"
   ]
  },
  {
   "cell_type": "code",
   "execution_count": 8,
   "id": "798dd5eb",
   "metadata": {},
   "outputs": [
    {
     "data": {
      "text/html": [
       "<div>\n",
       "<style scoped>\n",
       "    .dataframe tbody tr th:only-of-type {\n",
       "        vertical-align: middle;\n",
       "    }\n",
       "\n",
       "    .dataframe tbody tr th {\n",
       "        vertical-align: top;\n",
       "    }\n",
       "\n",
       "    .dataframe thead th {\n",
       "        text-align: right;\n",
       "    }\n",
       "</style>\n",
       "<table border=\"1\" class=\"dataframe\">\n",
       "  <thead>\n",
       "    <tr style=\"text-align: right;\">\n",
       "      <th></th>\n",
       "      <th>sales</th>\n",
       "      <th>regular_price</th>\n",
       "      <th>current_price</th>\n",
       "      <th>ratio</th>\n",
       "      <th>promo1</th>\n",
       "      <th>promo2</th>\n",
       "      <th>customer_id</th>\n",
       "      <th>cost</th>\n",
       "      <th>rgb_r_main_col</th>\n",
       "      <th>rgb_g_main_col</th>\n",
       "      <th>rgb_b_main_col</th>\n",
       "      <th>rgb_r_sec_col</th>\n",
       "      <th>rgb_g_sec_col</th>\n",
       "      <th>rgb_b_sec_col</th>\n",
       "      <th>label</th>\n",
       "    </tr>\n",
       "  </thead>\n",
       "  <tbody>\n",
       "    <tr>\n",
       "      <th>count</th>\n",
       "      <td>100000.000000</td>\n",
       "      <td>100000.000000</td>\n",
       "      <td>100000.000000</td>\n",
       "      <td>100000.000000</td>\n",
       "      <td>100000.000000</td>\n",
       "      <td>100000.000000</td>\n",
       "      <td>100000.000000</td>\n",
       "      <td>100000.000000</td>\n",
       "      <td>100000.000000</td>\n",
       "      <td>100000.000000</td>\n",
       "      <td>100000.000000</td>\n",
       "      <td>100000.000000</td>\n",
       "      <td>100000.000000</td>\n",
       "      <td>100000.000000</td>\n",
       "      <td>100000.00000</td>\n",
       "    </tr>\n",
       "    <tr>\n",
       "      <th>mean</th>\n",
       "      <td>56.781800</td>\n",
       "      <td>52.391200</td>\n",
       "      <td>28.290800</td>\n",
       "      <td>0.545646</td>\n",
       "      <td>0.061900</td>\n",
       "      <td>0.004900</td>\n",
       "      <td>2721.726500</td>\n",
       "      <td>6.517000</td>\n",
       "      <td>161.400000</td>\n",
       "      <td>139.600000</td>\n",
       "      <td>133.500000</td>\n",
       "      <td>207.700000</td>\n",
       "      <td>181.400000</td>\n",
       "      <td>209.900000</td>\n",
       "      <td>0.13928</td>\n",
       "    </tr>\n",
       "    <tr>\n",
       "      <th>std</th>\n",
       "      <td>87.934743</td>\n",
       "      <td>35.272128</td>\n",
       "      <td>22.578343</td>\n",
       "      <td>0.194363</td>\n",
       "      <td>0.240975</td>\n",
       "      <td>0.069829</td>\n",
       "      <td>1908.085499</td>\n",
       "      <td>3.914728</td>\n",
       "      <td>39.790147</td>\n",
       "      <td>63.641814</td>\n",
       "      <td>81.148727</td>\n",
       "      <td>35.313205</td>\n",
       "      <td>23.474359</td>\n",
       "      <td>45.306849</td>\n",
       "      <td>0.34624</td>\n",
       "    </tr>\n",
       "    <tr>\n",
       "      <th>min</th>\n",
       "      <td>1.000000</td>\n",
       "      <td>3.950000</td>\n",
       "      <td>1.950000</td>\n",
       "      <td>0.296482</td>\n",
       "      <td>0.000000</td>\n",
       "      <td>0.000000</td>\n",
       "      <td>1.000000</td>\n",
       "      <td>1.290000</td>\n",
       "      <td>79.000000</td>\n",
       "      <td>26.000000</td>\n",
       "      <td>0.000000</td>\n",
       "      <td>164.000000</td>\n",
       "      <td>155.000000</td>\n",
       "      <td>155.000000</td>\n",
       "      <td>0.00000</td>\n",
       "    </tr>\n",
       "    <tr>\n",
       "      <th>25%</th>\n",
       "      <td>10.000000</td>\n",
       "      <td>25.950000</td>\n",
       "      <td>11.950000</td>\n",
       "      <td>0.354839</td>\n",
       "      <td>0.000000</td>\n",
       "      <td>0.000000</td>\n",
       "      <td>1017.000000</td>\n",
       "      <td>2.290000</td>\n",
       "      <td>138.000000</td>\n",
       "      <td>104.000000</td>\n",
       "      <td>57.000000</td>\n",
       "      <td>164.000000</td>\n",
       "      <td>155.000000</td>\n",
       "      <td>155.000000</td>\n",
       "      <td>0.00000</td>\n",
       "    </tr>\n",
       "    <tr>\n",
       "      <th>50%</th>\n",
       "      <td>26.000000</td>\n",
       "      <td>40.950000</td>\n",
       "      <td>20.950000</td>\n",
       "      <td>0.525044</td>\n",
       "      <td>0.000000</td>\n",
       "      <td>0.000000</td>\n",
       "      <td>2091.000000</td>\n",
       "      <td>6.950000</td>\n",
       "      <td>160.000000</td>\n",
       "      <td>144.000000</td>\n",
       "      <td>143.000000</td>\n",
       "      <td>205.000000</td>\n",
       "      <td>187.000000</td>\n",
       "      <td>238.000000</td>\n",
       "      <td>0.00000</td>\n",
       "    </tr>\n",
       "    <tr>\n",
       "      <th>75%</th>\n",
       "      <td>64.000000</td>\n",
       "      <td>79.950000</td>\n",
       "      <td>37.950000</td>\n",
       "      <td>0.699248</td>\n",
       "      <td>0.000000</td>\n",
       "      <td>0.000000</td>\n",
       "      <td>4570.250000</td>\n",
       "      <td>9.600000</td>\n",
       "      <td>205.000000</td>\n",
       "      <td>181.000000</td>\n",
       "      <td>205.000000</td>\n",
       "      <td>255.000000</td>\n",
       "      <td>211.000000</td>\n",
       "      <td>255.000000</td>\n",
       "      <td>0.00000</td>\n",
       "    </tr>\n",
       "    <tr>\n",
       "      <th>max</th>\n",
       "      <td>898.000000</td>\n",
       "      <td>197.950000</td>\n",
       "      <td>195.950000</td>\n",
       "      <td>1.000000</td>\n",
       "      <td>1.000000</td>\n",
       "      <td>1.000000</td>\n",
       "      <td>5999.000000</td>\n",
       "      <td>13.290000</td>\n",
       "      <td>205.000000</td>\n",
       "      <td>238.000000</td>\n",
       "      <td>250.000000</td>\n",
       "      <td>255.000000</td>\n",
       "      <td>211.000000</td>\n",
       "      <td>255.000000</td>\n",
       "      <td>1.00000</td>\n",
       "    </tr>\n",
       "  </tbody>\n",
       "</table>\n",
       "</div>"
      ],
      "text/plain": [
       "               sales  regular_price  current_price          ratio  \\\n",
       "count  100000.000000  100000.000000  100000.000000  100000.000000   \n",
       "mean       56.781800      52.391200      28.290800       0.545646   \n",
       "std        87.934743      35.272128      22.578343       0.194363   \n",
       "min         1.000000       3.950000       1.950000       0.296482   \n",
       "25%        10.000000      25.950000      11.950000       0.354839   \n",
       "50%        26.000000      40.950000      20.950000       0.525044   \n",
       "75%        64.000000      79.950000      37.950000       0.699248   \n",
       "max       898.000000     197.950000     195.950000       1.000000   \n",
       "\n",
       "              promo1         promo2    customer_id           cost  \\\n",
       "count  100000.000000  100000.000000  100000.000000  100000.000000   \n",
       "mean        0.061900       0.004900    2721.726500       6.517000   \n",
       "std         0.240975       0.069829    1908.085499       3.914728   \n",
       "min         0.000000       0.000000       1.000000       1.290000   \n",
       "25%         0.000000       0.000000    1017.000000       2.290000   \n",
       "50%         0.000000       0.000000    2091.000000       6.950000   \n",
       "75%         0.000000       0.000000    4570.250000       9.600000   \n",
       "max         1.000000       1.000000    5999.000000      13.290000   \n",
       "\n",
       "       rgb_r_main_col  rgb_g_main_col  rgb_b_main_col  rgb_r_sec_col  \\\n",
       "count   100000.000000   100000.000000   100000.000000  100000.000000   \n",
       "mean       161.400000      139.600000      133.500000     207.700000   \n",
       "std         39.790147       63.641814       81.148727      35.313205   \n",
       "min         79.000000       26.000000        0.000000     164.000000   \n",
       "25%        138.000000      104.000000       57.000000     164.000000   \n",
       "50%        160.000000      144.000000      143.000000     205.000000   \n",
       "75%        205.000000      181.000000      205.000000     255.000000   \n",
       "max        205.000000      238.000000      250.000000     255.000000   \n",
       "\n",
       "       rgb_g_sec_col  rgb_b_sec_col         label  \n",
       "count  100000.000000  100000.000000  100000.00000  \n",
       "mean      181.400000     209.900000       0.13928  \n",
       "std        23.474359      45.306849       0.34624  \n",
       "min       155.000000     155.000000       0.00000  \n",
       "25%       155.000000     155.000000       0.00000  \n",
       "50%       187.000000     238.000000       0.00000  \n",
       "75%       211.000000     255.000000       0.00000  \n",
       "max       211.000000     255.000000       1.00000  "
      ]
     },
     "execution_count": 8,
     "metadata": {},
     "output_type": "execute_result"
    }
   ],
   "source": [
    "raw_data.describe()"
   ]
  },
  {
   "cell_type": "code",
   "execution_count": 9,
   "id": "a4da9bb1",
   "metadata": {
    "scrolled": true
   },
   "outputs": [
    {
     "data": {
      "text/plain": [
       "country            object\n",
       "article            object\n",
       "sales               int64\n",
       "regular_price     float64\n",
       "current_price     float64\n",
       "ratio             float64\n",
       "retailweek         object\n",
       "promo1              int64\n",
       "promo2              int64\n",
       "customer_id       float64\n",
       "article.1          object\n",
       "productgroup       object\n",
       "category           object\n",
       "cost              float64\n",
       "style              object\n",
       "sizes              object\n",
       "gender             object\n",
       "rgb_r_main_col      int64\n",
       "rgb_g_main_col      int64\n",
       "rgb_b_main_col      int64\n",
       "rgb_r_sec_col       int64\n",
       "rgb_g_sec_col       int64\n",
       "rgb_b_sec_col       int64\n",
       "label               int64\n",
       "dtype: object"
      ]
     },
     "execution_count": 9,
     "metadata": {},
     "output_type": "execute_result"
    }
   ],
   "source": [
    "raw_data.dtypes"
   ]
  },
  {
   "cell_type": "markdown",
   "id": "6b28218b",
   "metadata": {},
   "source": [
    "# EDA"
   ]
  },
  {
   "cell_type": "code",
   "execution_count": 10,
   "id": "180b13fa",
   "metadata": {},
   "outputs": [
    {
     "data": {
      "text/plain": [
       "<AxesSubplot:>"
      ]
     },
     "execution_count": 10,
     "metadata": {},
     "output_type": "execute_result"
    },
    {
     "data": {
      "image/png": "[encoded data removed]",
      "text/plain": [
       "<Figure size 432x288 with 1 Axes>"
      ]
     },
     "metadata": {
      "needs_background": "light"
     },
     "output_type": "display_data"
    }
   ],
   "source": [
    "raw_data['article'].value_counts().head(10).plot(kind='bar')"
   ]
  },
  {
   "cell_type": "code",
   "execution_count": 11,
   "id": "e7d49774",
   "metadata": {},
   "outputs": [],
   "source": [
    "top10_articles=raw_data['article'].value_counts().head(10).index"
   ]
  },
  {
   "cell_type": "code",
   "execution_count": 12,
   "id": "859dde47",
   "metadata": {},
   "outputs": [],
   "source": [
    "top10_articles_df=raw_data[raw_data['article'].isin(top10_articles)]"
   ]
  },
  {
   "cell_type": "code",
   "execution_count": 13,
   "id": "334b2760",
   "metadata": {},
   "outputs": [],
   "source": [
    "top10_articles_df=top10_articles_df.groupby(['article','label']).size().reset_index().rename(columns={0:'count'})"
   ]
  },
  {
   "cell_type": "code",
   "execution_count": 14,
   "id": "1f64b61c",
   "metadata": {},
   "outputs": [
    {
     "data": {
      "text/plain": [
       "<AxesSubplot:xlabel='article', ylabel='count'>"
      ]
     },
     "execution_count": 14,
     "metadata": {},
     "output_type": "execute_result"
    },
    {
     "data": {
      "image/png": "[encoded data removed]",
      "text/plain": [
       "<Figure size 720x576 with 1 Axes>"
      ]
     },
     "metadata": {
      "needs_background": "light"
     },
     "output_type": "display_data"
    }
   ],
   "source": [
    "plt.figure(figsize=(10,8))\n",
    "sns.barplot(x='article',y='count',data=top10_articles_df,hue='label')"
   ]
  },
  {
   "cell_type": "code",
   "execution_count": 15,
   "id": "abdd372f",
   "metadata": {},
   "outputs": [],
   "source": [
    "raw_data['customer_id']=raw_data['customer_id'].astype(str)"
   ]
  },
  {
   "cell_type": "code",
   "execution_count": 16,
   "id": "81fa1e21",
   "metadata": {},
   "outputs": [
    {
     "data": {
      "text/plain": [
       "array(['Germany', 'Austria', 'France'], dtype=object)"
      ]
     },
     "execution_count": 16,
     "metadata": {},
     "output_type": "execute_result"
    }
   ],
   "source": [
    "raw_data['country'].unique()"
   ]
  },
  {
   "cell_type": "code",
   "execution_count": 17,
   "id": "7226caed",
   "metadata": {},
   "outputs": [
    {
     "data": {
      "text/plain": [
       "<AxesSubplot:xlabel='country,label'>"
      ]
     },
     "execution_count": 17,
     "metadata": {},
     "output_type": "execute_result"
    },
    {
     "data": {
      "image/png": "[encoded data removed]",
      "text/plain": [
       "<Figure size 432x288 with 1 Axes>"
      ]
     },
     "metadata": {
      "needs_background": "light"
     },
     "output_type": "display_data"
    }
   ],
   "source": [
    "raw_data.groupby(['country','label'])['label'].size().plot(kind='bar')"
   ]
  },
  {
   "cell_type": "code",
   "execution_count": 18,
   "id": "7456c8ce",
   "metadata": {},
   "outputs": [
    {
     "data": {
      "text/plain": [
       "<AxesSubplot:ylabel='productgroup,category,label'>"
      ]
     },
     "execution_count": 18,
     "metadata": {},
     "output_type": "execute_result"
    },
    {
     "data": {
      "image/png": "[encoded data removed]",
      "text/plain": [
       "<Figure size 432x288 with 1 Axes>"
      ]
     },
     "metadata": {
      "needs_background": "light"
     },
     "output_type": "display_data"
    }
   ],
   "source": [
    "raw_data.groupby(['productgroup','category','label'])['label'].size().plot(kind='barh')"
   ]
  },
  {
   "cell_type": "code",
   "execution_count": 19,
   "id": "b47cc192",
   "metadata": {},
   "outputs": [],
   "source": [
    "raw_data['retailweek']=pd.to_datetime(raw_data['retailweek'])"
   ]
  },
  {
   "cell_type": "code",
   "execution_count": 20,
   "id": "9806ed2c",
   "metadata": {},
   "outputs": [],
   "source": [
    "raw_data['year']=raw_data['retailweek'].dt.year"
   ]
  },
  {
   "cell_type": "code",
   "execution_count": 21,
   "id": "44a24140",
   "metadata": {},
   "outputs": [],
   "source": [
    "year_label=raw_data.groupby(['year','label']).size().reset_index().rename(columns={0:'count'})"
   ]
  },
  {
   "cell_type": "code",
   "execution_count": 22,
   "id": "4f4c5bf5",
   "metadata": {},
   "outputs": [
    {
     "data": {
      "text/plain": [
       "<AxesSubplot:xlabel='year', ylabel='count'>"
      ]
     },
     "execution_count": 22,
     "metadata": {},
     "output_type": "execute_result"
    },
    {
     "data": {
      "image/png": "[encoded data removed]",
      "text/plain": [
       "<Figure size 720x576 with 1 Axes>"
      ]
     },
     "metadata": {
      "needs_background": "light"
     },
     "output_type": "display_data"
    }
   ],
   "source": [
    "plt.figure(figsize=(10,8))\n",
    "sns.barplot(x='year',y='count',data=year_label,hue='label')"
   ]
  },
  {
   "cell_type": "code",
   "execution_count": 23,
   "id": "e8f9df05",
   "metadata": {},
   "outputs": [
    {
     "data": {
      "text/html": [
       "<div>\n",
       "<style scoped>\n",
       "    .dataframe tbody tr th:only-of-type {\n",
       "        vertical-align: middle;\n",
       "    }\n",
       "\n",
       "    .dataframe tbody tr th {\n",
       "        vertical-align: top;\n",
       "    }\n",
       "\n",
       "    .dataframe thead th {\n",
       "        text-align: right;\n",
       "    }\n",
       "</style>\n",
       "<table border=\"1\" class=\"dataframe\">\n",
       "  <thead>\n",
       "    <tr style=\"text-align: right;\">\n",
       "      <th></th>\n",
       "      <th>country</th>\n",
       "      <th>article</th>\n",
       "      <th>sales</th>\n",
       "      <th>regular_price</th>\n",
       "      <th>current_price</th>\n",
       "      <th>ratio</th>\n",
       "      <th>retailweek</th>\n",
       "      <th>promo1</th>\n",
       "      <th>promo2</th>\n",
       "      <th>customer_id</th>\n",
       "      <th>...</th>\n",
       "      <th>sizes</th>\n",
       "      <th>gender</th>\n",
       "      <th>rgb_r_main_col</th>\n",
       "      <th>rgb_g_main_col</th>\n",
       "      <th>rgb_b_main_col</th>\n",
       "      <th>rgb_r_sec_col</th>\n",
       "      <th>rgb_g_sec_col</th>\n",
       "      <th>rgb_b_sec_col</th>\n",
       "      <th>label</th>\n",
       "      <th>year</th>\n",
       "    </tr>\n",
       "  </thead>\n",
       "  <tbody>\n",
       "    <tr>\n",
       "      <th>0</th>\n",
       "      <td>Germany</td>\n",
       "      <td>YN8639</td>\n",
       "      <td>28</td>\n",
       "      <td>5.95</td>\n",
       "      <td>3.95</td>\n",
       "      <td>0.663866</td>\n",
       "      <td>2016-03-27</td>\n",
       "      <td>0</td>\n",
       "      <td>0</td>\n",
       "      <td>1003.0</td>\n",
       "      <td>...</td>\n",
       "      <td>xxs,xs,s,m,l,xl,xxl</td>\n",
       "      <td>women</td>\n",
       "      <td>205</td>\n",
       "      <td>104</td>\n",
       "      <td>57</td>\n",
       "      <td>255</td>\n",
       "      <td>187</td>\n",
       "      <td>255</td>\n",
       "      <td>0</td>\n",
       "      <td>2016</td>\n",
       "    </tr>\n",
       "    <tr>\n",
       "      <th>1</th>\n",
       "      <td>Germany</td>\n",
       "      <td>YN8639</td>\n",
       "      <td>28</td>\n",
       "      <td>5.95</td>\n",
       "      <td>3.95</td>\n",
       "      <td>0.663866</td>\n",
       "      <td>2016-03-27</td>\n",
       "      <td>0</td>\n",
       "      <td>0</td>\n",
       "      <td>1003.0</td>\n",
       "      <td>...</td>\n",
       "      <td>xxs,xs,s,m,l,xl,xxl</td>\n",
       "      <td>women</td>\n",
       "      <td>188</td>\n",
       "      <td>238</td>\n",
       "      <td>104</td>\n",
       "      <td>255</td>\n",
       "      <td>187</td>\n",
       "      <td>255</td>\n",
       "      <td>0</td>\n",
       "      <td>2016</td>\n",
       "    </tr>\n",
       "    <tr>\n",
       "      <th>2</th>\n",
       "      <td>Germany</td>\n",
       "      <td>YN8639</td>\n",
       "      <td>28</td>\n",
       "      <td>5.95</td>\n",
       "      <td>3.95</td>\n",
       "      <td>0.663866</td>\n",
       "      <td>2016-03-27</td>\n",
       "      <td>0</td>\n",
       "      <td>0</td>\n",
       "      <td>1003.0</td>\n",
       "      <td>...</td>\n",
       "      <td>xxs,xs,s,m,l,xl,xxl</td>\n",
       "      <td>women</td>\n",
       "      <td>205</td>\n",
       "      <td>173</td>\n",
       "      <td>0</td>\n",
       "      <td>255</td>\n",
       "      <td>187</td>\n",
       "      <td>255</td>\n",
       "      <td>0</td>\n",
       "      <td>2016</td>\n",
       "    </tr>\n",
       "    <tr>\n",
       "      <th>3</th>\n",
       "      <td>Germany</td>\n",
       "      <td>YN8639</td>\n",
       "      <td>28</td>\n",
       "      <td>5.95</td>\n",
       "      <td>3.95</td>\n",
       "      <td>0.663866</td>\n",
       "      <td>2016-03-27</td>\n",
       "      <td>0</td>\n",
       "      <td>0</td>\n",
       "      <td>1003.0</td>\n",
       "      <td>...</td>\n",
       "      <td>xxs,xs,s,m,l,xl,xxl</td>\n",
       "      <td>kids</td>\n",
       "      <td>205</td>\n",
       "      <td>140</td>\n",
       "      <td>149</td>\n",
       "      <td>164</td>\n",
       "      <td>211</td>\n",
       "      <td>238</td>\n",
       "      <td>0</td>\n",
       "      <td>2016</td>\n",
       "    </tr>\n",
       "    <tr>\n",
       "      <th>4</th>\n",
       "      <td>Germany</td>\n",
       "      <td>YN8639</td>\n",
       "      <td>28</td>\n",
       "      <td>5.95</td>\n",
       "      <td>3.95</td>\n",
       "      <td>0.663866</td>\n",
       "      <td>2016-03-27</td>\n",
       "      <td>0</td>\n",
       "      <td>0</td>\n",
       "      <td>1003.0</td>\n",
       "      <td>...</td>\n",
       "      <td>xxs,xs,s,m,l,xl,xxl</td>\n",
       "      <td>women</td>\n",
       "      <td>138</td>\n",
       "      <td>43</td>\n",
       "      <td>226</td>\n",
       "      <td>164</td>\n",
       "      <td>211</td>\n",
       "      <td>238</td>\n",
       "      <td>0</td>\n",
       "      <td>2016</td>\n",
       "    </tr>\n",
       "  </tbody>\n",
       "</table>\n",
       "<p>5 rows × 25 columns</p>\n",
       "</div>"
      ],
      "text/plain": [
       "   country article  sales  regular_price  current_price     ratio retailweek  \\\n",
       "0  Germany  YN8639     28           5.95           3.95  0.663866 2016-03-27   \n",
       "1  Germany  YN8639     28           5.95           3.95  0.663866 2016-03-27   \n",
       "2  Germany  YN8639     28           5.95           3.95  0.663866 2016-03-27   \n",
       "3  Germany  YN8639     28           5.95           3.95  0.663866 2016-03-27   \n",
       "4  Germany  YN8639     28           5.95           3.95  0.663866 2016-03-27   \n",
       "\n",
       "   promo1  promo2 customer_id  ...                sizes gender rgb_r_main_col  \\\n",
       "0       0       0      1003.0  ...  xxs,xs,s,m,l,xl,xxl  women            205   \n",
       "1       0       0      1003.0  ...  xxs,xs,s,m,l,xl,xxl  women            188   \n",
       "2       0       0      1003.0  ...  xxs,xs,s,m,l,xl,xxl  women            205   \n",
       "3       0       0      1003.0  ...  xxs,xs,s,m,l,xl,xxl   kids            205   \n",
       "4       0       0      1003.0  ...  xxs,xs,s,m,l,xl,xxl  women            138   \n",
       "\n",
       "   rgb_g_main_col rgb_b_main_col rgb_r_sec_col rgb_g_sec_col  rgb_b_sec_col  \\\n",
       "0             104             57           255           187            255   \n",
       "1             238            104           255           187            255   \n",
       "2             173              0           255           187            255   \n",
       "3             140            149           164           211            238   \n",
       "4              43            226           164           211            238   \n",
       "\n",
       "   label  year  \n",
       "0      0  2016  \n",
       "1      0  2016  \n",
       "2      0  2016  \n",
       "3      0  2016  \n",
       "4      0  2016  \n",
       "\n",
       "[5 rows x 25 columns]"
      ]
     },
     "execution_count": 23,
     "metadata": {},
     "output_type": "execute_result"
    }
   ],
   "source": [
    "raw_data.head()"
   ]
  },
  {
   "cell_type": "code",
   "execution_count": 24,
   "id": "0259e429",
   "metadata": {},
   "outputs": [
    {
     "data": {
      "text/plain": [
       "1111.0    80\n",
       "1692.0    80\n",
       "1264.0    80\n",
       "1586.0    70\n",
       "648.0     70\n",
       "          ..\n",
       "5406.0    10\n",
       "3129.0    10\n",
       "4263.0    10\n",
       "5432.0    10\n",
       "5744.0    10\n",
       "Name: customer_id, Length: 4549, dtype: int64"
      ]
     },
     "execution_count": 24,
     "metadata": {},
     "output_type": "execute_result"
    }
   ],
   "source": [
    "raw_data['customer_id'].value_counts()"
   ]
  },
  {
   "cell_type": "code",
   "execution_count": 25,
   "id": "7ece4265",
   "metadata": {},
   "outputs": [],
   "source": [
    "Top20_customers=raw_data['customer_id'].value_counts().sort_values(ascending=False).head(20).reset_index()['index'].values.tolist()"
   ]
  },
  {
   "cell_type": "code",
   "execution_count": 26,
   "id": "b162e4f4",
   "metadata": {},
   "outputs": [],
   "source": [
    "top_20_customersdf=raw_data[raw_data['customer_id'].isin(Top20_customers)]"
   ]
  },
  {
   "cell_type": "code",
   "execution_count": 27,
   "id": "8dee944b",
   "metadata": {},
   "outputs": [],
   "source": [
    "top_20_customersdf=top_20_customersdf.groupby(['customer_id','label']).size().reset_index()"
   ]
  },
  {
   "cell_type": "code",
   "execution_count": 28,
   "id": "897f48d7",
   "metadata": {},
   "outputs": [
    {
     "data": {
      "text/plain": [
       "<AxesSubplot:xlabel='customer_id', ylabel='0'>"
      ]
     },
     "execution_count": 28,
     "metadata": {},
     "output_type": "execute_result"
    },
    {
     "data": {
      "image/png": "[encoded data removed]",
      "text/plain": [
       "<Figure size 1152x432 with 1 Axes>"
      ]
     },
     "metadata": {
      "needs_background": "light"
     },
     "output_type": "display_data"
    }
   ],
   "source": [
    "plt.figure(figsize=(16,6))\n",
    "sns.barplot(x='customer_id',y=0,data=top_20_customersdf,hue='label')"
   ]
  },
  {
   "cell_type": "markdown",
   "id": "b8a596fb",
   "metadata": {},
   "source": [
    "# checking correlation for feature selection"
   ]
  },
  {
   "cell_type": "code",
   "execution_count": 29,
   "id": "9c3a863e",
   "metadata": {},
   "outputs": [
    {
     "data": {
      "text/plain": [
       "<AxesSubplot:>"
      ]
     },
     "execution_count": 29,
     "metadata": {},
     "output_type": "execute_result"
    },
    {
     "data": {
      "image/png": "[encoded data removed]",
      "text/plain": [
       "<Figure size 1440x576 with 2 Axes>"
      ]
     },
     "metadata": {
      "needs_background": "light"
     },
     "output_type": "display_data"
    }
   ],
   "source": [
    "plt.figure(figsize=(20,8))\n",
    "sns.heatmap(raw_data.corr(),annot=True)"
   ]
  },
  {
   "cell_type": "markdown",
   "id": "cc9d43d9",
   "metadata": {},
   "source": [
    "# feature selection"
   ]
  },
  {
   "cell_type": "code",
   "execution_count": 30,
   "id": "42bb13e8",
   "metadata": {},
   "outputs": [],
   "source": [
    "df=raw_data.drop(['rgb_r_main_col','rgb_g_main_col','rgb_b_main_col','rgb_r_sec_col','rgb_g_sec_col','rgb_b_sec_col'], axis=1)"
   ]
  },
  {
   "cell_type": "code",
   "execution_count": 31,
   "id": "608508c2",
   "metadata": {},
   "outputs": [],
   "source": [
    "df.drop('regular_price',axis=1,inplace=True)"
   ]
  },
  {
   "cell_type": "code",
   "execution_count": 32,
   "id": "7bc1d1bd",
   "metadata": {},
   "outputs": [],
   "source": [
    "df.drop('article',axis=1,inplace=True)"
   ]
  },
  {
   "cell_type": "code",
   "execution_count": 33,
   "id": "050ed30e",
   "metadata": {},
   "outputs": [],
   "source": [
    "df.drop('retailweek',axis=1,inplace=True)"
   ]
  },
  {
   "cell_type": "code",
   "execution_count": 34,
   "id": "f3f276eb",
   "metadata": {},
   "outputs": [],
   "source": [
    "df.drop('customer_id',axis=1,inplace=True)"
   ]
  },
  {
   "cell_type": "code",
   "execution_count": 35,
   "id": "e1389167",
   "metadata": {},
   "outputs": [
    {
     "data": {
      "text/html": [
       "<div>\n",
       "<style scoped>\n",
       "    .dataframe tbody tr th:only-of-type {\n",
       "        vertical-align: middle;\n",
       "    }\n",
       "\n",
       "    .dataframe tbody tr th {\n",
       "        vertical-align: top;\n",
       "    }\n",
       "\n",
       "    .dataframe thead th {\n",
       "        text-align: right;\n",
       "    }\n",
       "</style>\n",
       "<table border=\"1\" class=\"dataframe\">\n",
       "  <thead>\n",
       "    <tr style=\"text-align: right;\">\n",
       "      <th></th>\n",
       "      <th>country</th>\n",
       "      <th>sales</th>\n",
       "      <th>current_price</th>\n",
       "      <th>ratio</th>\n",
       "      <th>promo1</th>\n",
       "      <th>promo2</th>\n",
       "      <th>article.1</th>\n",
       "      <th>productgroup</th>\n",
       "      <th>category</th>\n",
       "      <th>cost</th>\n",
       "      <th>style</th>\n",
       "      <th>sizes</th>\n",
       "      <th>gender</th>\n",
       "      <th>label</th>\n",
       "      <th>year</th>\n",
       "    </tr>\n",
       "  </thead>\n",
       "  <tbody>\n",
       "    <tr>\n",
       "      <th>0</th>\n",
       "      <td>Germany</td>\n",
       "      <td>28</td>\n",
       "      <td>3.95</td>\n",
       "      <td>0.663866</td>\n",
       "      <td>0</td>\n",
       "      <td>0</td>\n",
       "      <td>OC6355</td>\n",
       "      <td>SHOES</td>\n",
       "      <td>TRAINING</td>\n",
       "      <td>13.29</td>\n",
       "      <td>slim</td>\n",
       "      <td>xxs,xs,s,m,l,xl,xxl</td>\n",
       "      <td>women</td>\n",
       "      <td>0</td>\n",
       "      <td>2016</td>\n",
       "    </tr>\n",
       "    <tr>\n",
       "      <th>1</th>\n",
       "      <td>Germany</td>\n",
       "      <td>28</td>\n",
       "      <td>3.95</td>\n",
       "      <td>0.663866</td>\n",
       "      <td>0</td>\n",
       "      <td>0</td>\n",
       "      <td>AP5568</td>\n",
       "      <td>SHORTS</td>\n",
       "      <td>TRAINING</td>\n",
       "      <td>2.29</td>\n",
       "      <td>regular</td>\n",
       "      <td>xxs,xs,s,m,l,xl,xxl</td>\n",
       "      <td>women</td>\n",
       "      <td>0</td>\n",
       "      <td>2016</td>\n",
       "    </tr>\n",
       "    <tr>\n",
       "      <th>2</th>\n",
       "      <td>Germany</td>\n",
       "      <td>28</td>\n",
       "      <td>3.95</td>\n",
       "      <td>0.663866</td>\n",
       "      <td>0</td>\n",
       "      <td>0</td>\n",
       "      <td>CB8861</td>\n",
       "      <td>HARDWARE ACCESSORIES</td>\n",
       "      <td>GOLF</td>\n",
       "      <td>1.70</td>\n",
       "      <td>regular</td>\n",
       "      <td>xxs,xs,s,m,l,xl,xxl</td>\n",
       "      <td>women</td>\n",
       "      <td>0</td>\n",
       "      <td>2016</td>\n",
       "    </tr>\n",
       "    <tr>\n",
       "      <th>3</th>\n",
       "      <td>Germany</td>\n",
       "      <td>28</td>\n",
       "      <td>3.95</td>\n",
       "      <td>0.663866</td>\n",
       "      <td>0</td>\n",
       "      <td>0</td>\n",
       "      <td>LI3529</td>\n",
       "      <td>SHOES</td>\n",
       "      <td>RUNNING</td>\n",
       "      <td>9.00</td>\n",
       "      <td>regular</td>\n",
       "      <td>xxs,xs,s,m,l,xl,xxl</td>\n",
       "      <td>kids</td>\n",
       "      <td>0</td>\n",
       "      <td>2016</td>\n",
       "    </tr>\n",
       "    <tr>\n",
       "      <th>4</th>\n",
       "      <td>Germany</td>\n",
       "      <td>28</td>\n",
       "      <td>3.95</td>\n",
       "      <td>0.663866</td>\n",
       "      <td>0</td>\n",
       "      <td>0</td>\n",
       "      <td>GG8661</td>\n",
       "      <td>SHOES</td>\n",
       "      <td>RELAX CASUAL</td>\n",
       "      <td>9.60</td>\n",
       "      <td>regular</td>\n",
       "      <td>xxs,xs,s,m,l,xl,xxl</td>\n",
       "      <td>women</td>\n",
       "      <td>0</td>\n",
       "      <td>2016</td>\n",
       "    </tr>\n",
       "  </tbody>\n",
       "</table>\n",
       "</div>"
      ],
      "text/plain": [
       "   country  sales  current_price     ratio  promo1  promo2 article.1  \\\n",
       "0  Germany     28           3.95  0.663866       0       0    OC6355   \n",
       "1  Germany     28           3.95  0.663866       0       0    AP5568   \n",
       "2  Germany     28           3.95  0.663866       0       0    CB8861   \n",
       "3  Germany     28           3.95  0.663866       0       0    LI3529   \n",
       "4  Germany     28           3.95  0.663866       0       0    GG8661   \n",
       "\n",
       "           productgroup      category   cost    style                sizes  \\\n",
       "0                 SHOES      TRAINING  13.29     slim  xxs,xs,s,m,l,xl,xxl   \n",
       "1                SHORTS      TRAINING   2.29  regular  xxs,xs,s,m,l,xl,xxl   \n",
       "2  HARDWARE ACCESSORIES          GOLF   1.70  regular  xxs,xs,s,m,l,xl,xxl   \n",
       "3                 SHOES       RUNNING   9.00  regular  xxs,xs,s,m,l,xl,xxl   \n",
       "4                 SHOES  RELAX CASUAL   9.60  regular  xxs,xs,s,m,l,xl,xxl   \n",
       "\n",
       "  gender  label  year  \n",
       "0  women      0  2016  \n",
       "1  women      0  2016  \n",
       "2  women      0  2016  \n",
       "3   kids      0  2016  \n",
       "4  women      0  2016  "
      ]
     },
     "execution_count": 35,
     "metadata": {},
     "output_type": "execute_result"
    }
   ],
   "source": [
    "df.head()"
   ]
  },
  {
   "cell_type": "code",
   "execution_count": 36,
   "id": "3d8c462c",
   "metadata": {},
   "outputs": [
    {
     "data": {
      "text/plain": [
       "CB8861    10000\n",
       "PC6383    10000\n",
       "GG8661    10000\n",
       "LI3529    10000\n",
       "VT7698    10000\n",
       "FG2965    10000\n",
       "TX1463    10000\n",
       "OC6355    10000\n",
       "AP5568    10000\n",
       "AC7347    10000\n",
       "Name: article.1, dtype: int64"
      ]
     },
     "execution_count": 36,
     "metadata": {},
     "output_type": "execute_result"
    }
   ],
   "source": [
    "df['article.1'].value_counts()"
   ]
  },
  {
   "cell_type": "code",
   "execution_count": 37,
   "id": "6b1cfc61",
   "metadata": {},
   "outputs": [],
   "source": [
    "final_data=df.drop('article.1',axis=1)"
   ]
  },
  {
   "cell_type": "code",
   "execution_count": 38,
   "id": "5048a200",
   "metadata": {},
   "outputs": [
    {
     "data": {
      "text/html": [
       "<div>\n",
       "<style scoped>\n",
       "    .dataframe tbody tr th:only-of-type {\n",
       "        vertical-align: middle;\n",
       "    }\n",
       "\n",
       "    .dataframe tbody tr th {\n",
       "        vertical-align: top;\n",
       "    }\n",
       "\n",
       "    .dataframe thead th {\n",
       "        text-align: right;\n",
       "    }\n",
       "</style>\n",
       "<table border=\"1\" class=\"dataframe\">\n",
       "  <thead>\n",
       "    <tr style=\"text-align: right;\">\n",
       "      <th></th>\n",
       "      <th>country</th>\n",
       "      <th>sales</th>\n",
       "      <th>current_price</th>\n",
       "      <th>ratio</th>\n",
       "      <th>promo1</th>\n",
       "      <th>promo2</th>\n",
       "      <th>productgroup</th>\n",
       "      <th>category</th>\n",
       "      <th>cost</th>\n",
       "      <th>style</th>\n",
       "      <th>sizes</th>\n",
       "      <th>gender</th>\n",
       "      <th>label</th>\n",
       "      <th>year</th>\n",
       "    </tr>\n",
       "  </thead>\n",
       "  <tbody>\n",
       "    <tr>\n",
       "      <th>0</th>\n",
       "      <td>Germany</td>\n",
       "      <td>28</td>\n",
       "      <td>3.95</td>\n",
       "      <td>0.663866</td>\n",
       "      <td>0</td>\n",
       "      <td>0</td>\n",
       "      <td>SHOES</td>\n",
       "      <td>TRAINING</td>\n",
       "      <td>13.29</td>\n",
       "      <td>slim</td>\n",
       "      <td>xxs,xs,s,m,l,xl,xxl</td>\n",
       "      <td>women</td>\n",
       "      <td>0</td>\n",
       "      <td>2016</td>\n",
       "    </tr>\n",
       "    <tr>\n",
       "      <th>1</th>\n",
       "      <td>Germany</td>\n",
       "      <td>28</td>\n",
       "      <td>3.95</td>\n",
       "      <td>0.663866</td>\n",
       "      <td>0</td>\n",
       "      <td>0</td>\n",
       "      <td>SHORTS</td>\n",
       "      <td>TRAINING</td>\n",
       "      <td>2.29</td>\n",
       "      <td>regular</td>\n",
       "      <td>xxs,xs,s,m,l,xl,xxl</td>\n",
       "      <td>women</td>\n",
       "      <td>0</td>\n",
       "      <td>2016</td>\n",
       "    </tr>\n",
       "    <tr>\n",
       "      <th>2</th>\n",
       "      <td>Germany</td>\n",
       "      <td>28</td>\n",
       "      <td>3.95</td>\n",
       "      <td>0.663866</td>\n",
       "      <td>0</td>\n",
       "      <td>0</td>\n",
       "      <td>HARDWARE ACCESSORIES</td>\n",
       "      <td>GOLF</td>\n",
       "      <td>1.70</td>\n",
       "      <td>regular</td>\n",
       "      <td>xxs,xs,s,m,l,xl,xxl</td>\n",
       "      <td>women</td>\n",
       "      <td>0</td>\n",
       "      <td>2016</td>\n",
       "    </tr>\n",
       "    <tr>\n",
       "      <th>3</th>\n",
       "      <td>Germany</td>\n",
       "      <td>28</td>\n",
       "      <td>3.95</td>\n",
       "      <td>0.663866</td>\n",
       "      <td>0</td>\n",
       "      <td>0</td>\n",
       "      <td>SHOES</td>\n",
       "      <td>RUNNING</td>\n",
       "      <td>9.00</td>\n",
       "      <td>regular</td>\n",
       "      <td>xxs,xs,s,m,l,xl,xxl</td>\n",
       "      <td>kids</td>\n",
       "      <td>0</td>\n",
       "      <td>2016</td>\n",
       "    </tr>\n",
       "    <tr>\n",
       "      <th>4</th>\n",
       "      <td>Germany</td>\n",
       "      <td>28</td>\n",
       "      <td>3.95</td>\n",
       "      <td>0.663866</td>\n",
       "      <td>0</td>\n",
       "      <td>0</td>\n",
       "      <td>SHOES</td>\n",
       "      <td>RELAX CASUAL</td>\n",
       "      <td>9.60</td>\n",
       "      <td>regular</td>\n",
       "      <td>xxs,xs,s,m,l,xl,xxl</td>\n",
       "      <td>women</td>\n",
       "      <td>0</td>\n",
       "      <td>2016</td>\n",
       "    </tr>\n",
       "  </tbody>\n",
       "</table>\n",
       "</div>"
      ],
      "text/plain": [
       "   country  sales  current_price     ratio  promo1  promo2  \\\n",
       "0  Germany     28           3.95  0.663866       0       0   \n",
       "1  Germany     28           3.95  0.663866       0       0   \n",
       "2  Germany     28           3.95  0.663866       0       0   \n",
       "3  Germany     28           3.95  0.663866       0       0   \n",
       "4  Germany     28           3.95  0.663866       0       0   \n",
       "\n",
       "           productgroup      category   cost    style                sizes  \\\n",
       "0                 SHOES      TRAINING  13.29     slim  xxs,xs,s,m,l,xl,xxl   \n",
       "1                SHORTS      TRAINING   2.29  regular  xxs,xs,s,m,l,xl,xxl   \n",
       "2  HARDWARE ACCESSORIES          GOLF   1.70  regular  xxs,xs,s,m,l,xl,xxl   \n",
       "3                 SHOES       RUNNING   9.00  regular  xxs,xs,s,m,l,xl,xxl   \n",
       "4                 SHOES  RELAX CASUAL   9.60  regular  xxs,xs,s,m,l,xl,xxl   \n",
       "\n",
       "  gender  label  year  \n",
       "0  women      0  2016  \n",
       "1  women      0  2016  \n",
       "2  women      0  2016  \n",
       "3   kids      0  2016  \n",
       "4  women      0  2016  "
      ]
     },
     "execution_count": 38,
     "metadata": {},
     "output_type": "execute_result"
    }
   ],
   "source": [
    "final_data.head()"
   ]
  },
  {
   "cell_type": "code",
   "execution_count": 39,
   "id": "43fd6ec9",
   "metadata": {},
   "outputs": [],
   "source": [
    "from sklearn.model_selection import train_test_split\n",
    "from sklearn.linear_model import LogisticRegression\n",
    "from sklearn.preprocessing import StandardScaler\n",
    "from sklearn.pipeline import Pipeline"
   ]
  },
  {
   "cell_type": "code",
   "execution_count": 40,
   "id": "12dd6a15",
   "metadata": {},
   "outputs": [],
   "source": [
    "x=final_data.drop('label',axis=1)\n",
    "y=final_data['label']"
   ]
  },
  {
   "cell_type": "code",
   "execution_count": 41,
   "id": "db9979bf",
   "metadata": {},
   "outputs": [],
   "source": [
    "x_train,x_test,y_train,y_test=train_test_split(x,y,test_size=0.2,stratify=y,random_state=444)"
   ]
  },
  {
   "cell_type": "markdown",
   "id": "bb79c3c9",
   "metadata": {},
   "source": [
    "# cretaing dummy variables for categorical features"
   ]
  },
  {
   "cell_type": "code",
   "execution_count": 42,
   "id": "84f7f485",
   "metadata": {},
   "outputs": [],
   "source": [
    "country_dummy=pd.get_dummies(final_data['country'],drop_first=True)"
   ]
  },
  {
   "cell_type": "code",
   "execution_count": 43,
   "id": "f36e45be",
   "metadata": {},
   "outputs": [
    {
     "data": {
      "text/html": [
       "<div>\n",
       "<style scoped>\n",
       "    .dataframe tbody tr th:only-of-type {\n",
       "        vertical-align: middle;\n",
       "    }\n",
       "\n",
       "    .dataframe tbody tr th {\n",
       "        vertical-align: top;\n",
       "    }\n",
       "\n",
       "    .dataframe thead th {\n",
       "        text-align: right;\n",
       "    }\n",
       "</style>\n",
       "<table border=\"1\" class=\"dataframe\">\n",
       "  <thead>\n",
       "    <tr style=\"text-align: right;\">\n",
       "      <th></th>\n",
       "      <th>France</th>\n",
       "      <th>Germany</th>\n",
       "    </tr>\n",
       "  </thead>\n",
       "  <tbody>\n",
       "    <tr>\n",
       "      <th>0</th>\n",
       "      <td>0</td>\n",
       "      <td>1</td>\n",
       "    </tr>\n",
       "    <tr>\n",
       "      <th>1</th>\n",
       "      <td>0</td>\n",
       "      <td>1</td>\n",
       "    </tr>\n",
       "    <tr>\n",
       "      <th>2</th>\n",
       "      <td>0</td>\n",
       "      <td>1</td>\n",
       "    </tr>\n",
       "    <tr>\n",
       "      <th>3</th>\n",
       "      <td>0</td>\n",
       "      <td>1</td>\n",
       "    </tr>\n",
       "    <tr>\n",
       "      <th>4</th>\n",
       "      <td>0</td>\n",
       "      <td>1</td>\n",
       "    </tr>\n",
       "    <tr>\n",
       "      <th>...</th>\n",
       "      <td>...</td>\n",
       "      <td>...</td>\n",
       "    </tr>\n",
       "    <tr>\n",
       "      <th>99995</th>\n",
       "      <td>0</td>\n",
       "      <td>1</td>\n",
       "    </tr>\n",
       "    <tr>\n",
       "      <th>99996</th>\n",
       "      <td>0</td>\n",
       "      <td>1</td>\n",
       "    </tr>\n",
       "    <tr>\n",
       "      <th>99997</th>\n",
       "      <td>0</td>\n",
       "      <td>1</td>\n",
       "    </tr>\n",
       "    <tr>\n",
       "      <th>99998</th>\n",
       "      <td>0</td>\n",
       "      <td>1</td>\n",
       "    </tr>\n",
       "    <tr>\n",
       "      <th>99999</th>\n",
       "      <td>0</td>\n",
       "      <td>1</td>\n",
       "    </tr>\n",
       "  </tbody>\n",
       "</table>\n",
       "<p>100000 rows × 2 columns</p>\n",
       "</div>"
      ],
      "text/plain": [
       "       France  Germany\n",
       "0           0        1\n",
       "1           0        1\n",
       "2           0        1\n",
       "3           0        1\n",
       "4           0        1\n",
       "...       ...      ...\n",
       "99995       0        1\n",
       "99996       0        1\n",
       "99997       0        1\n",
       "99998       0        1\n",
       "99999       0        1\n",
       "\n",
       "[100000 rows x 2 columns]"
      ]
     },
     "execution_count": 43,
     "metadata": {},
     "output_type": "execute_result"
    }
   ],
   "source": [
    "country_dummy"
   ]
  },
  {
   "cell_type": "code",
   "execution_count": 44,
   "id": "5256d25b",
   "metadata": {},
   "outputs": [],
   "source": [
    "final_data=pd.concat([x_train,country_dummy],axis=1)"
   ]
  },
  {
   "cell_type": "code",
   "execution_count": 45,
   "id": "712ea4b0",
   "metadata": {},
   "outputs": [],
   "source": [
    "final_data.drop('country',axis=1,inplace=True)"
   ]
  },
  {
   "cell_type": "code",
   "execution_count": 46,
   "id": "226efba1",
   "metadata": {},
   "outputs": [],
   "source": [
    "product_dummy=pd.get_dummies(final_data['productgroup'],drop_first=True)"
   ]
  },
  {
   "cell_type": "code",
   "execution_count": 47,
   "id": "54db1039",
   "metadata": {},
   "outputs": [],
   "source": [
    "final_data=pd.concat([final_data,product_dummy],axis=1)"
   ]
  },
  {
   "cell_type": "code",
   "execution_count": 48,
   "id": "d4c13ebe",
   "metadata": {},
   "outputs": [],
   "source": [
    "final_data.drop('productgroup',axis=1,inplace=True)"
   ]
  },
  {
   "cell_type": "code",
   "execution_count": 49,
   "id": "9aed421d",
   "metadata": {},
   "outputs": [],
   "source": [
    "category_dummy=pd.get_dummies(final_data['category'],drop_first=True)"
   ]
  },
  {
   "cell_type": "code",
   "execution_count": 50,
   "id": "1e93d7f4",
   "metadata": {},
   "outputs": [],
   "source": [
    "final_data=pd.concat([final_data,category_dummy],axis=1)"
   ]
  },
  {
   "cell_type": "code",
   "execution_count": 51,
   "id": "d410fd46",
   "metadata": {},
   "outputs": [],
   "source": [
    "final_data.drop('category',axis=1,inplace=True)"
   ]
  },
  {
   "cell_type": "code",
   "execution_count": 52,
   "id": "597e9a06",
   "metadata": {},
   "outputs": [],
   "source": [
    "style_dummy=pd.get_dummies(final_data['style'],drop_first=True)"
   ]
  },
  {
   "cell_type": "code",
   "execution_count": 53,
   "id": "382c49d9",
   "metadata": {},
   "outputs": [],
   "source": [
    "final_data=pd.concat([final_data,style_dummy],axis=1)"
   ]
  },
  {
   "cell_type": "code",
   "execution_count": 54,
   "id": "f925ff48",
   "metadata": {},
   "outputs": [],
   "source": [
    "final_data.drop('style',axis=1,inplace=True)"
   ]
  },
  {
   "cell_type": "code",
   "execution_count": 55,
   "id": "ddefaf44",
   "metadata": {},
   "outputs": [],
   "source": [
    "size_dummy=pd.get_dummies(final_data['sizes'],drop_first=True)"
   ]
  },
  {
   "cell_type": "code",
   "execution_count": 56,
   "id": "7764856e",
   "metadata": {},
   "outputs": [],
   "source": [
    "final_data=pd.concat([final_data,size_dummy],axis=1)"
   ]
  },
  {
   "cell_type": "code",
   "execution_count": 57,
   "id": "409fcf03",
   "metadata": {},
   "outputs": [],
   "source": [
    "final_data.drop('sizes',axis=1,inplace=True)"
   ]
  },
  {
   "cell_type": "code",
   "execution_count": 58,
   "id": "c8af1425",
   "metadata": {},
   "outputs": [],
   "source": [
    "gender_dummy=pd.get_dummies(final_data['gender'],drop_first=True)"
   ]
  },
  {
   "cell_type": "code",
   "execution_count": 59,
   "id": "e8678640",
   "metadata": {},
   "outputs": [],
   "source": [
    "final_data=pd.concat([final_data,gender_dummy],axis=1)"
   ]
  },
  {
   "cell_type": "code",
   "execution_count": 60,
   "id": "7bdf700a",
   "metadata": {},
   "outputs": [],
   "source": [
    "final_data.drop('gender',axis=1,inplace=True)"
   ]
  },
  {
   "cell_type": "code",
   "execution_count": 61,
   "id": "d074a286",
   "metadata": {},
   "outputs": [],
   "source": [
    "year_dummy=pd.get_dummies(final_data['year'],drop_first=True)"
   ]
  },
  {
   "cell_type": "code",
   "execution_count": 62,
   "id": "5a09ae9f",
   "metadata": {},
   "outputs": [],
   "source": [
    "final_data=pd.concat([final_data,year_dummy],axis=1)"
   ]
  },
  {
   "cell_type": "code",
   "execution_count": 63,
   "id": "b1b983c5",
   "metadata": {},
   "outputs": [],
   "source": [
    "final_data.drop('year',axis=1,inplace=True)"
   ]
  },
  {
   "cell_type": "code",
   "execution_count": 64,
   "id": "240defbf",
   "metadata": {},
   "outputs": [
    {
     "data": {
      "text/plain": [
       "Index([              'sales',       'current_price',               'ratio',\n",
       "                    'promo1',              'promo2',                'cost',\n",
       "                    'France',             'Germany',               'SHOES',\n",
       "                    'SHORTS',         'SWEATSHIRTS',                'GOLF',\n",
       "                    'INDOOR',        'RELAX CASUAL',             'RUNNING',\n",
       "                  'TRAINING',                'slim',                'wide',\n",
       "       'xxs,xs,s,m,l,xl,xxl',                 'men',              'unisex',\n",
       "                     'women',                2015.0,                2016.0,\n",
       "                      2017.0],\n",
       "      dtype='object')"
      ]
     },
     "execution_count": 64,
     "metadata": {},
     "output_type": "execute_result"
    }
   ],
   "source": [
    "final_data.columns"
   ]
  },
  {
   "cell_type": "code",
   "execution_count": 69,
   "id": "ebc64af0",
   "metadata": {},
   "outputs": [
    {
     "data": {
      "text/plain": [
       "(100000, 25)"
      ]
     },
     "execution_count": 69,
     "metadata": {},
     "output_type": "execute_result"
    }
   ],
   "source": [
    "final_data.shape"
   ]
  },
  {
   "cell_type": "markdown",
   "id": "6338bd28",
   "metadata": {},
   "source": [
    "# splitting my data"
   ]
  },
  {
   "cell_type": "code",
   "execution_count": 66,
   "id": "f54967bb",
   "metadata": {},
   "outputs": [],
   "source": [
    "x_train=x_train.values\n",
    "y_train=y_train.values\n",
    "x_test=x_test.values\n",
    "y_test=y_test.values"
   ]
  },
  {
   "cell_type": "code",
   "execution_count": 67,
   "id": "d7bbc5f4",
   "metadata": {},
   "outputs": [],
   "source": [
    "from sklearn.model_selection import train_test_split\n",
    "from sklearn.linear_model import LogisticRegression\n",
    "from sklearn.preprocessing import StandardScaler\n",
    "from sklearn.pipeline import Pipeline"
   ]
  },
  {
   "cell_type": "code",
   "execution_count": 66,
   "id": "c4795aa4",
   "metadata": {},
   "outputs": [],
   "source": [
    "x_train,x_test,y_train,y_test=train_test_split(x,y,test_size=0.2,stratify=y,random_state=444)"
   ]
  },
  {
   "cell_type": "code",
   "execution_count": 68,
   "id": "fd1b8e80",
   "metadata": {},
   "outputs": [
    {
     "data": {
      "text/plain": [
       "(80000, 13)"
      ]
     },
     "execution_count": 68,
     "metadata": {},
     "output_type": "execute_result"
    }
   ],
   "source": [
    "x_train.shape"
   ]
  },
  {
   "cell_type": "markdown",
   "id": "4253bcff",
   "metadata": {},
   "source": [
    "# oversampling my minority label "
   ]
  },
  {
   "cell_type": "code",
   "execution_count": 73,
   "id": "5f8f3e99",
   "metadata": {},
   "outputs": [
    {
     "data": {
      "text/plain": [
       "0    86072\n",
       "1    13928\n",
       "Name: label, dtype: int64"
      ]
     },
     "execution_count": 73,
     "metadata": {},
     "output_type": "execute_result"
    }
   ],
   "source": [
    "final_data['label'].value_counts()"
   ]
  },
  {
   "cell_type": "code",
   "execution_count": 68,
   "id": "db3d2664",
   "metadata": {},
   "outputs": [],
   "source": [
    "from imblearn.over_sampling import ADASYN\n",
    "from collections import Counter"
   ]
  },
  {
   "cell_type": "code",
   "execution_count": 69,
   "id": "c7824a2f",
   "metadata": {},
   "outputs": [],
   "source": [
    "oversample = ADASYN()"
   ]
  },
  {
   "cell_type": "code",
   "execution_count": 70,
   "id": "dabf93f1",
   "metadata": {},
   "outputs": [],
   "source": [
    "x_transform, y_transform = oversample.fit_resample(x_train, y_train)"
   ]
  },
  {
   "cell_type": "code",
   "execution_count": 74,
   "id": "b5ae42da",
   "metadata": {},
   "outputs": [
    {
     "name": "stdout",
     "output_type": "stream",
     "text": [
      "Counter({0: 68858, 1: 68193})\n"
     ]
    }
   ],
   "source": [
    "print(Counter(y_transform))"
   ]
  },
  {
   "cell_type": "code",
   "execution_count": 75,
   "id": "a58c4f11",
   "metadata": {},
   "outputs": [
    {
     "data": {
      "text/plain": [
       "(137051,)"
      ]
     },
     "execution_count": 75,
     "metadata": {},
     "output_type": "execute_result"
    }
   ],
   "source": [
    "y_transform.shape"
   ]
  },
  {
   "cell_type": "markdown",
   "id": "c5deab44",
   "metadata": {},
   "source": [
    "# model 1"
   ]
  },
  {
   "cell_type": "code",
   "execution_count": 155,
   "id": "d6d0ac70",
   "metadata": {},
   "outputs": [],
   "source": [
    "from sklearn.ensemble import RandomForestClassifier"
   ]
  },
  {
   "cell_type": "code",
   "execution_count": 156,
   "id": "6477ff76",
   "metadata": {},
   "outputs": [],
   "source": [
    "from imblearn.pipeline import make_pipeline"
   ]
  },
  {
   "cell_type": "code",
   "execution_count": 327,
   "id": "1332ae0a",
   "metadata": {},
   "outputs": [],
   "source": [
    "steps=[('scaler',StandardScaler()),('tree',RandomForestClassifier(n_estimators=10))]"
   ]
  },
  {
   "cell_type": "code",
   "execution_count": 328,
   "id": "2583ea2d",
   "metadata": {},
   "outputs": [],
   "source": [
    "pipeline=Pipeline(steps)"
   ]
  },
  {
   "cell_type": "code",
   "execution_count": 98,
   "id": "a382c118",
   "metadata": {},
   "outputs": [],
   "source": [
    "from sklearn.model_selection import cross_val_score,KFold\n",
    "from sklearn.model_selection import RepeatedStratifiedKFold"
   ]
  },
  {
   "cell_type": "code",
   "execution_count": 330,
   "id": "3820be48",
   "metadata": {},
   "outputs": [],
   "source": [
    "cv = RepeatedStratifiedKFold(n_splits=10, n_repeats=3, random_state=1)"
   ]
  },
  {
   "cell_type": "code",
   "execution_count": 332,
   "id": "2b3bd401",
   "metadata": {},
   "outputs": [],
   "source": [
    "scores = cross_val_score(pipeline, x_transform, y_transform, scoring='f1',error_score='raise', cv=cv, n_jobs=-1)"
   ]
  },
  {
   "cell_type": "code",
   "execution_count": 333,
   "id": "c47d0733",
   "metadata": {},
   "outputs": [
    {
     "data": {
      "text/plain": [
       "array([0.89534355, 0.8997139 , 0.89537859, 0.89920963, 0.901089  ,\n",
       "       0.89860507, 0.8994956 , 0.89973635, 0.89932584, 0.89716953,\n",
       "       0.89645838, 0.89954887, 0.8985117 , 0.90242806, 0.89489942,\n",
       "       0.89916535, 0.90036014, 0.89662972, 0.89483255, 0.89770418,\n",
       "       0.89909084, 0.89931471, 0.90130493, 0.90278926, 0.89944218,\n",
       "       0.90222754, 0.89872942, 0.89897401, 0.8985115 , 0.89659313])"
      ]
     },
     "execution_count": 333,
     "metadata": {},
     "output_type": "execute_result"
    }
   ],
   "source": [
    "scores"
   ]
  },
  {
   "cell_type": "code",
   "execution_count": 334,
   "id": "911d623d",
   "metadata": {},
   "outputs": [],
   "source": [
    "from numpy import mean\n",
    "score = mean(scores)"
   ]
  },
  {
   "cell_type": "code",
   "execution_count": 335,
   "id": "8e3d6cf7",
   "metadata": {},
   "outputs": [
    {
     "data": {
      "text/plain": [
       "0.8987527653412232"
      ]
     },
     "execution_count": 335,
     "metadata": {},
     "output_type": "execute_result"
    }
   ],
   "source": [
    "score"
   ]
  },
  {
   "cell_type": "code",
   "execution_count": 336,
   "id": "440b8ad7",
   "metadata": {},
   "outputs": [
    {
     "name": "stdout",
     "output_type": "stream",
     "text": [
      "F1 Score: 0.899\n"
     ]
    }
   ],
   "source": [
    "print('F1 Score: %.3f' % score)"
   ]
  },
  {
   "cell_type": "markdown",
   "id": "dcfb441d",
   "metadata": {},
   "source": [
    "# After studying well the last model it turned out that this is a misleading model and canot be used as using crossvalidation after oversampling will result in a wrong results as there will be data leakage (same points on training and validation data) but i decided to leave it for clarification"
   ]
  },
  {
   "cell_type": "markdown",
   "id": "7fbccdd1",
   "metadata": {},
   "source": [
    "# model 2: logistic regression with oversampling"
   ]
  },
  {
   "cell_type": "code",
   "execution_count": 137,
   "id": "33291452",
   "metadata": {},
   "outputs": [],
   "source": [
    "steps2=[('scaler',StandardScaler()),('log',LogisticRegression())]"
   ]
  },
  {
   "cell_type": "code",
   "execution_count": 138,
   "id": "de99d2bb",
   "metadata": {},
   "outputs": [],
   "source": [
    "pipeline2=Pipeline(steps2)"
   ]
  },
  {
   "cell_type": "code",
   "execution_count": 139,
   "id": "3b0282e9",
   "metadata": {},
   "outputs": [
    {
     "data": {
      "text/html": [
       "<style>#sk-container-id-5 {color: black;}#sk-container-id-5 pre{padding: 0;}#sk-container-id-5 div.sk-toggleable {background-color: white;}#sk-container-id-5 label.sk-toggleable__label {cursor: pointer;display: block;width: 100%;margin-bottom: 0;padding: 0.3em;box-sizing: border-box;text-align: center;}#sk-container-id-5 label.sk-toggleable__label-arrow:before {content: \"▸\";float: left;margin-right: 0.25em;color: #696969;}#sk-container-id-5 label.sk-toggleable__label-arrow:hover:before {color: black;}#sk-container-id-5 div.sk-estimator:hover label.sk-toggleable__label-arrow:before {color: black;}#sk-container-id-5 div.sk-toggleable__content {max-height: 0;max-width: 0;overflow: hidden;text-align: left;background-color: #f0f8ff;}#sk-container-id-5 div.sk-toggleable__content pre {margin: 0.2em;color: black;border-radius: 0.25em;background-color: #f0f8ff;}#sk-container-id-5 input.sk-toggleable__control:checked~div.sk-toggleable__content {max-height: 200px;max-width: 100%;overflow: auto;}#sk-container-id-5 input.sk-toggleable__control:checked~label.sk-toggleable__label-arrow:before {content: \"▾\";}#sk-container-id-5 div.sk-estimator input.sk-toggleable__control:checked~label.sk-toggleable__label {background-color: #d4ebff;}#sk-container-id-5 div.sk-label input.sk-toggleable__control:checked~label.sk-toggleable__label {background-color: #d4ebff;}#sk-container-id-5 input.sk-hidden--visually {border: 0;clip: rect(1px 1px 1px 1px);clip: rect(1px, 1px, 1px, 1px);height: 1px;margin: -1px;overflow: hidden;padding: 0;position: absolute;width: 1px;}#sk-container-id-5 div.sk-estimator {font-family: monospace;background-color: #f0f8ff;border: 1px dotted black;border-radius: 0.25em;box-sizing: border-box;margin-bottom: 0.5em;}#sk-container-id-5 div.sk-estimator:hover {background-color: #d4ebff;}#sk-container-id-5 div.sk-parallel-item::after {content: \"\";width: 100%;border-bottom: 1px solid gray;flex-grow: 1;}#sk-container-id-5 div.sk-label:hover label.sk-toggleable__label {background-color: #d4ebff;}#sk-container-id-5 div.sk-serial::before {content: \"\";position: absolute;border-left: 1px solid gray;box-sizing: border-box;top: 0;bottom: 0;left: 50%;z-index: 0;}#sk-container-id-5 div.sk-serial {display: flex;flex-direction: column;align-items: center;background-color: white;padding-right: 0.2em;padding-left: 0.2em;position: relative;}#sk-container-id-5 div.sk-item {position: relative;z-index: 1;}#sk-container-id-5 div.sk-parallel {display: flex;align-items: stretch;justify-content: center;background-color: white;position: relative;}#sk-container-id-5 div.sk-item::before, #sk-container-id-5 div.sk-parallel-item::before {content: \"\";position: absolute;border-left: 1px solid gray;box-sizing: border-box;top: 0;bottom: 0;left: 50%;z-index: -1;}#sk-container-id-5 div.sk-parallel-item {display: flex;flex-direction: column;z-index: 1;position: relative;background-color: white;}#sk-container-id-5 div.sk-parallel-item:first-child::after {align-self: flex-end;width: 50%;}#sk-container-id-5 div.sk-parallel-item:last-child::after {align-self: flex-start;width: 50%;}#sk-container-id-5 div.sk-parallel-item:only-child::after {width: 0;}#sk-container-id-5 div.sk-dashed-wrapped {border: 1px dashed gray;margin: 0 0.4em 0.5em 0.4em;box-sizing: border-box;padding-bottom: 0.4em;background-color: white;}#sk-container-id-5 div.sk-label label {font-family: monospace;font-weight: bold;display: inline-block;line-height: 1.2em;}#sk-container-id-5 div.sk-label-container {text-align: center;}#sk-container-id-5 div.sk-container {/* jupyter's `normalize.less` sets `[hidden] { display: none; }` but bootstrap.min.css set `[hidden] { display: none !important; }` so we also need the `!important` here to be able to override the default hidden behavior on the sphinx rendered scikit-learn.org. See: https://github.com/scikit-learn/scikit-learn/issues/21755 */display: inline-block !important;position: relative;}#sk-container-id-5 div.sk-text-repr-fallback {display: none;}</style><div id=\"sk-container-id-5\" class=\"sk-top-container\"><div class=\"sk-text-repr-fallback\"><pre>Pipeline(steps=[(&#x27;scaler&#x27;, StandardScaler()), (&#x27;log&#x27;, LogisticRegression())])</pre><b>In a Jupyter environment, please rerun this cell to show the HTML representation or trust the notebook. <br />On GitHub, the HTML representation is unable to render, please try loading this page with nbviewer.org.</b></div><div class=\"sk-container\" hidden><div class=\"sk-item sk-dashed-wrapped\"><div class=\"sk-label-container\"><div class=\"sk-label sk-toggleable\"><input class=\"sk-toggleable__control sk-hidden--visually\" id=\"sk-estimator-id-13\" type=\"checkbox\" ><label for=\"sk-estimator-id-13\" class=\"sk-toggleable__label sk-toggleable__label-arrow\">Pipeline</label><div class=\"sk-toggleable__content\"><pre>Pipeline(steps=[(&#x27;scaler&#x27;, StandardScaler()), (&#x27;log&#x27;, LogisticRegression())])</pre></div></div></div><div class=\"sk-serial\"><div class=\"sk-item\"><div class=\"sk-estimator sk-toggleable\"><input class=\"sk-toggleable__control sk-hidden--visually\" id=\"sk-estimator-id-14\" type=\"checkbox\" ><label for=\"sk-estimator-id-14\" class=\"sk-toggleable__label sk-toggleable__label-arrow\">StandardScaler</label><div class=\"sk-toggleable__content\"><pre>StandardScaler()</pre></div></div></div><div class=\"sk-item\"><div class=\"sk-estimator sk-toggleable\"><input class=\"sk-toggleable__control sk-hidden--visually\" id=\"sk-estimator-id-15\" type=\"checkbox\" ><label for=\"sk-estimator-id-15\" class=\"sk-toggleable__label sk-toggleable__label-arrow\">LogisticRegression</label><div class=\"sk-toggleable__content\"><pre>LogisticRegression()</pre></div></div></div></div></div></div></div>"
      ],
      "text/plain": [
       "Pipeline(steps=[('scaler', StandardScaler()), ('log', LogisticRegression())])"
      ]
     },
     "execution_count": 139,
     "metadata": {},
     "output_type": "execute_result"
    }
   ],
   "source": [
    "pipeline2.fit(x_transform,y_transform)"
   ]
  },
  {
   "cell_type": "code",
   "execution_count": 140,
   "id": "8b53e832",
   "metadata": {},
   "outputs": [],
   "source": [
    "y_pred=pipeline2.predict(x_test)"
   ]
  },
  {
   "cell_type": "code",
   "execution_count": 141,
   "id": "2526ff1c",
   "metadata": {},
   "outputs": [
    {
     "data": {
      "text/plain": [
       "0.76275"
      ]
     },
     "execution_count": 141,
     "metadata": {},
     "output_type": "execute_result"
    }
   ],
   "source": [
    "pipeline2.score(x_test,y_test)"
   ]
  },
  {
   "cell_type": "code",
   "execution_count": 142,
   "id": "5af99e45",
   "metadata": {},
   "outputs": [],
   "source": [
    "from sklearn.metrics import confusion_matrix,classification_report"
   ]
  },
  {
   "cell_type": "code",
   "execution_count": 143,
   "id": "30698e29",
   "metadata": {},
   "outputs": [
    {
     "data": {
      "text/plain": [
       "array([[13003,  4211],\n",
       "       [  534,  2252]], dtype=int64)"
      ]
     },
     "execution_count": 143,
     "metadata": {},
     "output_type": "execute_result"
    }
   ],
   "source": [
    "confusion_matrix(y_test,y_pred)"
   ]
  },
  {
   "cell_type": "code",
   "execution_count": 144,
   "id": "21825b75",
   "metadata": {},
   "outputs": [
    {
     "name": "stdout",
     "output_type": "stream",
     "text": [
      "              precision    recall  f1-score   support\n",
      "\n",
      "           0       0.96      0.76      0.85     17214\n",
      "           1       0.35      0.81      0.49      2786\n",
      "\n",
      "    accuracy                           0.76     20000\n",
      "   macro avg       0.65      0.78      0.67     20000\n",
      "weighted avg       0.88      0.76      0.80     20000\n",
      "\n"
     ]
    }
   ],
   "source": [
    "print(classification_report(y_test,y_pred))"
   ]
  },
  {
   "cell_type": "markdown",
   "id": "bc04a1e2",
   "metadata": {},
   "source": [
    "# The previous model was a simple Logistic Regression which we used after oversampling"
   ]
  },
  {
   "cell_type": "markdown",
   "id": "5a5f2ad0",
   "metadata": {},
   "source": [
    "# model 3: k nearest neighbors\n",
    "# I will try now to make a better performance by using oversampling inside cv so there will be no oversampling in validation data"
   ]
  },
  {
   "cell_type": "code",
   "execution_count": 96,
   "id": "8604c648",
   "metadata": {},
   "outputs": [],
   "source": [
    "from sklearn.neighbors import KNeighborsClassifier"
   ]
  },
  {
   "cell_type": "code",
   "execution_count": 99,
   "id": "1a543d01",
   "metadata": {},
   "outputs": [],
   "source": [
    "cv = RepeatedStratifiedKFold(n_splits=10, n_repeats=3, random_state=1)"
   ]
  },
  {
   "cell_type": "code",
   "execution_count": 100,
   "id": "3d591151",
   "metadata": {},
   "outputs": [],
   "source": [
    "from imblearn.pipeline import Pipeline, make_pipeline\n",
    "from imblearn.over_sampling import RandomOverSampler"
   ]
  },
  {
   "cell_type": "code",
   "execution_count": 150,
   "id": "d81ba690",
   "metadata": {},
   "outputs": [],
   "source": [
    "pipeline3 = make_pipeline(RandomOverSampler(sampling_strategy='minority',random_state=44),StandardScaler(), \n",
    "                             KNeighborsClassifier(n_neighbors=35))"
   ]
  },
  {
   "cell_type": "code",
   "execution_count": 151,
   "id": "2df7c5b2",
   "metadata": {},
   "outputs": [],
   "source": [
    "scores = cross_val_score(pipeline3, x_train, y_train, scoring='f1_macro',error_score='raise', cv=cv, n_jobs=-1)"
   ]
  },
  {
   "cell_type": "code",
   "execution_count": 152,
   "id": "f0c4effe",
   "metadata": {},
   "outputs": [
    {
     "data": {
      "text/plain": [
       "array([0.62346858, 0.62069554, 0.62660443, 0.63336631, 0.62640034,\n",
       "       0.63257702, 0.62627227, 0.62808863, 0.62494724, 0.62255605,\n",
       "       0.63206394, 0.62743774, 0.61943171, 0.62319031, 0.62872563,\n",
       "       0.632262  , 0.63338801, 0.62067844, 0.62297853, 0.62395835,\n",
       "       0.62667635, 0.62498871, 0.62608414, 0.62625107, 0.62704557,\n",
       "       0.63552642, 0.62649384, 0.62891713, 0.6269168 , 0.62769319])"
      ]
     },
     "execution_count": 152,
     "metadata": {},
     "output_type": "execute_result"
    }
   ],
   "source": [
    "scores"
   ]
  },
  {
   "cell_type": "code",
   "execution_count": 153,
   "id": "58a3c34e",
   "metadata": {},
   "outputs": [],
   "source": [
    "from numpy import mean\n",
    "score = mean(scores)"
   ]
  },
  {
   "cell_type": "code",
   "execution_count": 154,
   "id": "92383ea0",
   "metadata": {},
   "outputs": [
    {
     "data": {
      "text/plain": [
       "0.6268561436476017"
      ]
     },
     "execution_count": 154,
     "metadata": {},
     "output_type": "execute_result"
    }
   ],
   "source": [
    "score"
   ]
  },
  {
   "cell_type": "markdown",
   "id": "63d2ed51",
   "metadata": {},
   "source": [
    "# Conclusion: model 2 Logistic Regression is the best model"
   ]
  }
 ],
 "metadata": {
  "kernelspec": {
   "display_name": "Python 3 (ipykernel)",
   "language": "python",
   "name": "python3"
  },
  "language_info": {
   "codemirror_mode": {
    "name": "ipython",
    "version": 3
   },
   "file_extension": ".py",
   "mimetype": "text/x-python",
   "name": "python",
   "nbconvert_exporter": "python",
   "pygments_lexer": "ipython3",
   "version": "3.11.4"
  }
 },
 "nbformat": 4,
 "nbformat_minor": 5
}
